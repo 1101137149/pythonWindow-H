{
 "cells": [
  {
   "cell_type": "code",
   "execution_count": null,
   "metadata": {},
   "outputs": [],
   "source": [
    "\n",
    "# 建立虛擬環境MAC用\n",
    "#cd ../../venv\n",
    "#python3 -m venv venvH 虛擬環境資料夾名稱  --建立虛擬環境 venv01 的資料夾 *venv01可更換名稱\n",
    "#source ./venvH/bin/activate --建立的虛擬環境資料夾只要呼叫裏頭的Scripts\\activate.bat 即可進入虛擬環境\n",
    "#cd ../project/pythonWindow-H\n",
    "\n",
    "#安裝套件\n",
    "#pip install requests\n",
    "#pip install selenium 自動化網頁用\n",
    "#pip install Pillow  (PIL)\n",
    "#pip install webdriver_manager\n",
    "#pip install tkintermapview\n",
    "\n",
    "#打包套件\n",
    "# (進虛擬環境) 把將套件的資訊存到requirements.txt\n",
    "# pip3 freeze > requirements.txt\n",
    "\n",
    "#安裝打包套件\n",
    "# (進虛擬環境) 將requirements.txt 裡的套件直接安裝環境\n",
    "# pip3 install -r requirements.txt"
   ]
  }
 ],
 "metadata": {
  "kernelspec": {
   "display_name": "venvH",
   "language": "python",
   "name": "python3"
  },
  "language_info": {
   "name": "python",
   "version": "3.10.8 (v3.10.8:aaaf517424, Oct 11 2022, 10:14:40) [Clang 13.0.0 (clang-1300.0.29.30)]"
  },
  "orig_nbformat": 4,
  "vscode": {
   "interpreter": {
    "hash": "b5ef1e1470bcc8f2604ad0b7c7435b2eafa70cc1aa7c1303ad323218d3b5ccb4"
   }
  }
 },
 "nbformat": 4,
 "nbformat_minor": 2
}
