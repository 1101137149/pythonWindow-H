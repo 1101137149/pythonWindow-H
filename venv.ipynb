{
 "cells": [
  {
   "cell_type": "code",
   "execution_count": null,
   "metadata": {},
   "outputs": [],
   "source": [
    "\n",
    "# 建立虛擬環境MAC用\n",
    "#cd ../../venv\n",
    "#python3 -m venv venvH 虛擬環境資料夾名稱  --建立虛擬環境 venv01 的資料夾 *venv01可更換名稱\n",
    "#source ./venvH/bin/activate --建立的虛擬環境資料夾只要呼叫裏頭的Scripts\\activate.bat 即可進入虛擬環境\n",
    "#cd ../project/pythonWindow-H\n",
    "\n",
    "#安裝套件\n",
    "#pip install requests\n",
    "#pip install selenium 自動化網頁用\n",
    "#pip install Pillow  (PIL)\n",
    "#pip install webdriver_manager\n",
    "#pip install tkintermapview\n",
    "\n",
    "#打包套件\n",
    "# (進虛擬環境) 把將套件的資訊存到requirements.txt\n",
    "# pip3 freeze > requirements.txt\n",
    "\n",
    "#安裝打包套件\n",
    "# (進虛擬環境) 將requirements.txt 裡的套件直接安裝環境\n",
    "# pip3 install -r requirements.txt\n",
    "\n",
    "#打包成exe\n",
    "# pip install pyinstaller\n",
    "# pyinstaller -F .\\main.py"
   ]
  }
 ],
 "metadata": {
  "kernelspec": {
   "display_name": "Python 3.10.7 64-bit",
   "language": "python",
   "name": "python3"
  },
  "language_info": {
   "name": "python",
   "version": "3.10.7"
  },
  "orig_nbformat": 4,
  "vscode": {
   "interpreter": {
    "hash": "8bf05f147498495bfb6e9619c745162c55b8ddd4c770a7cd652b90a4ecfec608"
   }
  }
 },
 "nbformat": 4,
 "nbformat_minor": 2
}
